{
  "nbformat": 4,
  "nbformat_minor": 0,
  "metadata": {
    "colab": {
      "provenance": []
    },
    "kernelspec": {
      "name": "python3",
      "display_name": "Python 3"
    },
    "language_info": {
      "name": "python"
    }
  },
  "cells": [
    {
      "cell_type": "code",
      "execution_count": null,
      "metadata": {
        "colab": {
          "base_uri": "https://localhost:8080/"
        },
        "id": "dmmIRFiQoGvM",
        "outputId": "7a6226b1-8fe8-403f-89f0-f6e80c841f05"
      },
      "outputs": [
        {
          "output_type": "stream",
          "name": "stdout",
          "text": [
            "=== Buscando a raiz ===\n",
            "Iteração |     x     |    f(x)   |   Erro\n",
            "-------------------------------------------\n",
            "       0 | 4.500000 | 0.137332 | 0.001480\n",
            "       1 | 4.498520 | 0.105730 | 0.002129\n",
            "       2 | 4.496391 | 0.061054 | 0.000745\n",
            "       3 | 4.495646 | 0.045640 | 0.000299\n",
            "       4 | 4.495347 | 0.039488 | 0.000223\n",
            "       5 | 4.495125 | 0.034916 | 0.001324\n",
            "       6 | 4.493801 | 0.007921 | 0.000142\n",
            "       7 | 4.493659 | 0.005051 | 0.000137\n",
            "       8 | 4.493522 | 0.002270 | 0.000047\n",
            "       9 | 4.493475 | 0.001324 | 0.000031\n",
            "      10 | 4.493444 | 0.000698 | 0.000020\n",
            "      11 | 4.493424 | 0.000295 | 0.000005\n",
            "      12 | 4.493419 | 0.000200 | 0.000008\n",
            "      13 | 4.493412 | 0.000042 | 0.000001\n",
            "      14 | 4.493411 | 0.000030 | 0.000001\n",
            "      15 | 4.493410 | 0.000011 | 0.000000\n",
            "      16 | 4.493410 | 0.000007 | 0.000000\n",
            "      17 | 4.493410 | 0.000004 | 0.000000\n",
            "      18 | 4.493410 | 0.000002 | 0.000000\n",
            "      19 | 4.493409 | 0.000000 | 0.000000\n",
            "      20 | 4.493409 | 0.000000 | 0.000000\n",
            "      21 | 4.493409 | 0.000000 | 0.000000\n",
            "      22 | 4.493409 | 0.000000 | 0.000000\n",
            "      23 | 4.493409 | 0.000000 | 0.000000\n",
            "      24 | 4.493409 | 0.000000 | 0.000000\n",
            "      25 | 4.493409 | 0.000000 | 0.000000\n",
            "      26 | 4.493409 | 0.000000 | 0.000000\n",
            "      27 | 4.493409 | 0.000000 | 0.000000\n",
            "      28 | 4.493409 | 0.000000 | 0.000000\n",
            "      29 | 4.493409 | 0.000000 | 0.000000\n",
            "\n",
            "Convergência alcançada!\n",
            "\n",
            "Raiz encontrada: 4.49340946\n",
            "f(4.493409) = 9.4560804e-11\n",
            "\n",
            "\n",
            "Tempo gasto: início = 1747090629.0545s, fim = 1747090629.0560s, total = 0.0015s\n"
          ]
        }
      ],
      "source": [
        "import numpy as np\n",
        "import time\n",
        "\n",
        "def f(x):\n",
        "\n",
        "    return np.tan(x)-x\n",
        "\n",
        "def df(x, h=1e-12):\n",
        "    return (f(x + h) - f(x)) / h\n",
        "\n",
        "def metodo_newton(f, df, x0, tol=1e-12, max_iter=1000):\n",
        "    xk = [x0]  # Lista para armazenar os pontos iterativos\n",
        "\n",
        "    print(\"Iteração |     x     |    f(x)   |   Erro\")\n",
        "    print(\"-------------------------------------------\")\n",
        "\n",
        "    for i in range(max_iter):\n",
        "        fx = f(x0)\n",
        "        dfx = df(x0)\n",
        "        if abs(dfx) < 1e-10:\n",
        "            print(\"\\nDerivada muito próxima de zero. Método falhou.\")\n",
        "            return None\n",
        "\n",
        "        alfa = np.random.uniform(0.1, 0.9)\n",
        "        x1 = x0 - alfa * (fx / dfx)\n",
        "        erro = abs(x1 - x0)\n",
        "        xk.append(x1)\n",
        "\n",
        "        print(f\"{i:8} | {x0:.6f} | {fx:.6f} | {erro:.6f}\")\n",
        "        if erro < tol:\n",
        "            print(\"\\nConvergência alcançada!\")\n",
        "            return x1\n",
        "        x0 = x1\n",
        "    print(\"\\nMétodo não convergiu após\", max_iter, \"iterações.\")\n",
        "    return None\n",
        "\n",
        "\n",
        "def exibir_resultado(titulo, x0):\n",
        "    print(f\"=== {titulo} ===\")\n",
        "    raiz = metodo_newton(f, df, x0)\n",
        "    if raiz is not None:\n",
        "        print(f\"\\nRaiz encontrada: {raiz:.8f}\")\n",
        "        print(f\"f({raiz:.6f}) = {f(raiz):.8}\")\n",
        "    print(\"\\n\")\n",
        "\n",
        "inicio = time.time()\n",
        "exibir_resultado(\"Buscando a raiz\", x0=4.5)\n",
        "fim = time.time()\n",
        "print(f\"Tempo gasto: início = {inicio:.4f}s, fim = {fim:.4f}s, total = {fim - inicio:.4f}s\")\n",
        "\n"
      ]
    },
    {
      "cell_type": "markdown",
      "source": [
        "Os dois códigos apresentados implementam o Método de Newton para encontrar raízes de uma função, mas diferem na forma como atualizam o valor da aproximação a cada iteração. O primeiro código utiliza a forma tradicional do método, onde a próxima aproximação x_{k+1} é calculada diretamente pela fórmula x_{k+1} = x_k - f(x_k) / f'(x_k). Essa abordagem tende a ser mais rápida, pois aplica 100% da correção sugerida pela razão entre o valor da função e sua derivada. No entanto, esse método pode ser instável em casos em que a função apresenta comportamento oscilante, não linearidades acentuadas ou derivadas muito pequenas, o que pode levar à divergência do processo iterativo.\n",
        "\n",
        "Por outro lado, o segundo código modifica o Método de Newton tradicional ao introduzir um fator de relaxação, chamado alfa, que é escolhido aleatoriamente entre 0.1 e 0.9 a cada iteração. A fórmula de atualização torna-se x_{k+1} = x_k - alfa * (f(x_k) / f'(x_k)), o que reduz o tamanho do passo dado em direção à raiz. Essa modificação torna o método mais estável em certas situações, pois passos menores ajudam a evitar saltos grandes demais que poderiam afastar a solução. Contudo, isso também pode tornar a convergência mais lenta e o processo menos previsível, já que os resultados podem variar a cada execução devido ao uso do número aleatório.\n",
        "\n",
        "Em resumo, o Método de Newton padrão é mais direto e eficiente quando aplicado a funções bem comportadas, enquanto a versão com fator de relaxação é mais robusta em situações instáveis, embora possa exigir mais iterações e apresentar resultados não determinísticos. A escolha entre os dois depende da natureza da função analisada e do equilíbrio desejado entre velocidade e estabilidade."
      ],
      "metadata": {
        "id": "6hMsrZXosxuo"
      }
    }
  ]
}