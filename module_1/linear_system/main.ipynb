{
 "cells": [
  {
   "cell_type": "code",
   "execution_count": 1,
   "metadata": {},
   "outputs": [
    {
     "name": "stdout",
     "output_type": "stream",
     "text": [
      "Matriz A:\n",
      " [[1.       1.000001]\n",
      " [1.       1.      ]]\n",
      "Determinante de A: -9.999999999177338e-07\n",
      "A inversa de A é:\n",
      " [[-1000000.00008227  1000001.00008227]\n",
      " [ 1000000.00008227 -1000000.00008227]]\n",
      "Norma infinito de A: 2.000001\n",
      "Norma infinito da inversa de A: 2000001.0001645333\n",
      "Número de Condicionamento (usando norma infinito): 4000004.000330067\n",
      "Número de Condicionamento (usando função cond do NumPy): 4000002.000582194\n"
     ]
    }
   ],
   "source": [
    "import numpy as np\n",
    "\n",
    "# Matriz A (modificada para evitar determinante próximo de zero)\n",
    "A = np.array([[1, 1.000001],\n",
    "              [1, 1]], dtype=float)\n",
    "\n",
    "print(\"Matriz A:\\n\", A)\n",
    "\n",
    "# Verificando o determinante antes de calcular a inversa\n",
    "determinante = np.linalg.det(A)\n",
    "print(\"Determinante de A:\", determinante)\n",
    "\n",
    "if abs(determinante) < 1e-10:\n",
    "    print(\"A matriz A é praticamente singular e não pode ser invertida.\")\n",
    "else:\n",
    "    # Cálculo da inversa\n",
    "    Inversa = np.linalg.inv(A)\n",
    "    print(\"A inversa de A é:\\n\", Inversa)\n",
    "\n",
    "    # Cálculo da norma infinito\n",
    "    norma1 = np.linalg.norm(A, np.inf)\n",
    "    norma2 = np.linalg.norm(Inversa, np.inf)\n",
    "\n",
    "    print(\"Norma infinito de A:\", norma1)\n",
    "    print(\"Norma infinito da inversa de A:\", norma2)\n",
    "\n",
    "    # Cálculo do número de condicionamento\n",
    "    condicionamento = norma1 * norma2\n",
    "    numero_condicionamento = np.linalg.cond(A)\n",
    "\n",
    "    print(\"Número de Condicionamento (usando norma infinito):\", condicionamento)\n",
    "    print(\"Número de Condicionamento (usando função cond do NumPy):\", numero_condicionamento)"
   ]
  }
 ],
 "metadata": {
  "kernelspec": {
   "display_name": "Python 3",
   "language": "python",
   "name": "python3"
  },
  "language_info": {
   "codemirror_mode": {
    "name": "ipython",
    "version": 3
   },
   "file_extension": ".py",
   "mimetype": "text/x-python",
   "name": "python",
   "nbconvert_exporter": "python",
   "pygments_lexer": "ipython3",
   "version": "3.11.5"
  }
 },
 "nbformat": 4,
 "nbformat_minor": 2
}
