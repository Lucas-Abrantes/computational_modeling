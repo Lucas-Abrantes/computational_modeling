{
 "cells": [
  {
   "cell_type": "markdown",
   "metadata": {},
   "source": [
    "##### 1ª Questão: Escreva um código em Python que receba 3 números reais a partir do teclado e retorne estes números ordenados (menor ao maior).\n"
   ]
  },
  {
   "cell_type": "code",
   "execution_count": null,
   "metadata": {},
   "outputs": [
    {
     "name": "stdout",
     "output_type": "stream",
     "text": [
      "tamaho do vetor:  3\n",
      "[1.0, 5.0, 9.0]\n"
     ]
    }
   ],
   "source": [
    "\n",
    "def sorted(elements: list):\n",
    "    '''\n",
    "    Função que ordena uma lista de elementos\n",
    "        :param elements: list -> lista de elementos\n",
    "        :return: list -> lista de elementos ordenados\n",
    "    '''\n",
    "    if not isinstance(elements, list):\n",
    "        # Verificando se os elementos são uma lista\n",
    "        raise TypeError(\"Dados inseridos não são uma lista\")\n",
    "\n",
    "    n = len(elements)\n",
    "    # Ordenando os elementos\n",
    "    try:\n",
    "        for i in range(n):\n",
    "            for j in range(n - 1):\n",
    "                if(elements[j] > elements[j + 1]):\n",
    "                    elements[j], elements[j + 1] = elements[j + 1], elements[j]\n",
    "        return elements\n",
    "    except Exception as e:\n",
    "        print(f'Erro ao ordenar elementos {e}')\n",
    "\n",
    "elements = [] # Lista vazia\n",
    "\n",
    "# Adicionando elementos na lista\n",
    "for i in range(3):\n",
    "    num = float(input(f'Elemento na posição {i + 1}°: '))\n",
    "    elements.append(num)\n",
    "\n",
    "# Chamando a função sorted\n",
    "print(sorted(elements))"
   ]
  },
  {
   "cell_type": "markdown",
   "metadata": {},
   "source": [
    "##### 2ª Questão: Faça um código em Python que receba um conjunto com n números reais digitados a partir do teclado e retorne estes números ordenados(menor para o maior).\n"
   ]
  },
  {
   "cell_type": "code",
   "execution_count": null,
   "metadata": {},
   "outputs": [
    {
     "name": "stdout",
     "output_type": "stream",
     "text": [
      "Vetor antes da ordenação: [5.0, 4.0]\n",
      "Vetor depois da ordenação: [4.0, 5.0]\n"
     ]
    }
   ],
   "source": [
    "\n",
    "def sorted(elements: list):\n",
    "    '''\n",
    "    Função que ordena uma lista de elementos\n",
    "        :param elements: list -> lista de elementos\n",
    "    '''\n",
    "    n = len(elements)\n",
    "    try:\n",
    "        for i in range(n):\n",
    "            for j in range(n - 1):\n",
    "                if(elements[j] > elements[j + 1]):\n",
    "                    elements[j], elements[j + 1] = elements[j + 1], elements[j]\n",
    "        return elements\n",
    "    except Exception as e:\n",
    "        print(f'Erro ao ordenar elementos {e}')\n",
    "\n",
    "def main(value:int):\n",
    "    '''\n",
    "    Função que recebe um valor inteiro e preenche um vetor de N elementos\n",
    "        :param value: int -> valor inteiro\n",
    "    '''\n",
    "    elements = []\n",
    "\n",
    "    for i in range(value):\n",
    "        while True:\n",
    "            try:\n",
    "                num = float(input(f'Elemento na posição {i + 1}°: '))\n",
    "                elements.append(num)\n",
    "                break\n",
    "            except ValueError:\n",
    "                print(\"Entrada de dados inválida\")       \n",
    "\n",
    "    print(f\"Vetor antes da ordenação: {elements}\")\n",
    "    sorted(elements) # Chamando a função sorted com os valores inseridos\n",
    "    print(f\"Vetor depois da ordenação: {elements}\")\n",
    "\n",
    "main(2)"
   ]
  },
  {
   "cell_type": "markdown",
   "metadata": {},
   "source": [
    "##### 3ª Questão: Faça um código em Python que receba um conjunto com o nome de n pessoas digitados a partir do teclado e retorne estes números ordenados(utilize a ordem alfabética)."
   ]
  },
  {
   "cell_type": "code",
   "execution_count": null,
   "metadata": {},
   "outputs": [],
   "source": []
  },
  {
   "cell_type": "markdown",
   "metadata": {},
   "source": [
    "##### 4ª Questão: Faça um código em Python que receba uma matriz quadrada de ordem n por n e verifique se esta matriz é simétrica."
   ]
  },
  {
   "cell_type": "code",
   "execution_count": null,
   "metadata": {},
   "outputs": [
    {
     "name": "stdout",
     "output_type": "stream",
     "text": [
      "Digite os dados da matriz: \n",
      "\n",
      "Matriz recebida: [[1, 2, 3], [2, 4, 5], [3, 5, 6]]\n"
     ]
    },
    {
     "data": {
      "text/plain": [
       "True"
      ]
     },
     "execution_count": 22,
     "metadata": {},
     "output_type": "execute_result"
    }
   ],
   "source": [
    "def verify_matrix(matrix:list):\n",
    "    '''\n",
    "    Função que verifica se uma matriz é simétrica\n",
    "        :param matrix: list -> matriz\n",
    "        :return: bool -> True se a matriz for simétrica, False se não for\n",
    "    '''\n",
    "    n = len(matrix)\n",
    "    for i in range(n):\n",
    "        for j in range(i + 1, n):\n",
    "            if matrix[i][j] != matrix[j][i]:\n",
    "                return False\n",
    "    return True\n",
    "\n",
    "\n",
    "def matrix(n:int):\n",
    "    '''\n",
    "    Função que recebe um valor inteiro e preenche uma matriz de N elementos\n",
    "        :param n: int -> valor inteiro\n",
    "    '''\n",
    "    matrix = []\n",
    "    print(\"Digite os dados da matriz: \\n\")\n",
    "    for i in range(n):\n",
    "        linha = list(map(int, input(f\"Linha {i + 1}: \").split()))\n",
    "        matrix.append(linha)\n",
    "    is_simetric = verify_matrix(matrix)\n",
    "    return is_simetric\n",
    "\n",
    "matrix(3)"
   ]
  },
  {
   "cell_type": "markdown",
   "metadata": {},
   "source": [
    "##### 5ªQuestão Calcule os limites a seguir,\n",
    "\n",
    "a) 𝑓(𝑥) = {𝑥^4𝑠𝑒𝑛(1/𝑥), 𝑠𝑒 𝑥≠0 0, 𝑠𝑒 𝑥 = 0. 𝑙𝑖𝑚𝑥→0𝑓(𝑥)}.\n"
   ]
  },
  {
   "cell_type": "code",
   "execution_count": 68,
   "metadata": {},
   "outputs": [
    {
     "data": {
      "text/plain": [
       "<matplotlib.legend.Legend at 0x1eb83fd1ad0>"
      ]
     },
     "execution_count": 68,
     "metadata": {},
     "output_type": "execute_result"
    },
    {
     "data": {
      "image/png": "[encoded data removed]",
      "text/plain": [
       "<Figure size 1500x800 with 1 Axes>"
      ]
     },
     "metadata": {},
     "output_type": "display_data"
    }
   ],
   "source": [
    "import matplotlib.pyplot as plt\n",
    "import numpy as np\n",
    "\n",
    "def limit(x):\n",
    "    # Evita divisão por zero removendo x = 0\n",
    "    x = np.where(x == 0, np.nan, x)  # Substitui 0 por NaN para evitar erro\n",
    "    return x**4 * np.sin(1/x)\n",
    "\n",
    "\n",
    "x = np.linspace(0.01, 0.5, 1000)\n",
    "y = limit(x)\n",
    "plt.figure(figsize=(15, 8))\n",
    "\n",
    "plt.plot(x, y, label='f(x) = x^4 * sen(1/x)')\n",
    "\n",
    "plt.xlabel('Valores de x')\n",
    "plt.ylabel('Valores de y')\n",
    "plt.title('Função f(x) = x^4 * sen(1/x)')\n",
    "plt.grid()\n",
    "plt.legend()\n"
   ]
  },
  {
   "cell_type": "markdown",
   "metadata": {},
   "source": [
    "b) 𝑔(𝑥) = {𝑥^4 − 1, 𝑠𝑒 𝑥 > 1 − 𝑥^4+ 1, 𝑠𝑒 𝑥 < 1. 𝑙𝑖𝑚𝑥→1𝑔(𝑥).}\n"
   ]
  },
  {
   "cell_type": "code",
   "execution_count": 69,
   "metadata": {},
   "outputs": [
    {
     "data": {
      "image/png": "[encoded data removed]",
      "text/plain": [
       "<Figure size 640x480 with 1 Axes>"
      ]
     },
     "metadata": {},
     "output_type": "display_data"
    }
   ],
   "source": [
    "import matplotlib.pyplot as plt\n",
    "import numpy as np\n",
    "\n",
    "def limit(x):\n",
    "\n",
    "    result = np.where(x > 1, x**4 - 1, np.where(x < 1, -x**4 + 1, np.nan))\n",
    "    return result\n",
    "\n",
    "x = np.linspace(0.01, 1.5, 1000)  # Gera valores de x entre 0.01 e 2\n",
    "y = limit(x)\n",
    "\n",
    "plt.plot(x, y, label='f(x) = x^4 * sen(1/x)')\n",
    "plt.xlabel('Valores de x')\n",
    "plt.ylabel('Valores de y')\n",
    "plt.title('Função f(x) = x^4 * sen(1/x)')\n",
    "plt.grid()\n",
    "plt.legend()\n",
    "plt.show()\n"
   ]
  },
  {
   "cell_type": "markdown",
   "metadata": {},
   "source": [
    "##### 6ª Questão Elabore um código em Python para verificar se um conjunto de 11 dígitos numéricos representam um número de CPF."
   ]
  },
  {
   "cell_type": "code",
   "execution_count": null,
   "metadata": {},
   "outputs": [
    {
     "name": "stdout",
     "output_type": "stream",
     "text": [
      "CPF 123.456.789-09 é válido.\n",
      "CPF 111.444.777-35 é válido.\n",
      "CPF 000.000.000-00 é inválido.\n"
     ]
    }
   ],
   "source": [
    "import re\n",
    "\n",
    "# Remove caracteres não numéricos do CPF.\n",
    "def limpar_cpf(cpf: str) -> str:\n",
    "    return re.sub(r'\\D', '', cpf)\n",
    "\n",
    "# Verifica se o CPF tem exatamente 11 dígitos e não é uma sequência repetida\n",
    "def validar_formato(cpf: str) -> bool:\n",
    "    return len(cpf) == 11 and cpf.isdigit() and cpf != cpf[0] * 11\n",
    "\n",
    "\n",
    "# Calcula um dos dígitos verificadores do CPF\n",
    "def calcular_digito(cpf: str, peso_inicial: int) -> int:\n",
    "    soma = sum(int(cpf[i]) * (peso_inicial - i) for i in range(peso_inicial - 1))\n",
    "    resto = soma % 11\n",
    "    return 0 if resto < 2 else 11 - resto\n",
    "\n",
    "# Valida um CPF\n",
    "def validar_cpf(cpf: str) -> bool:\n",
    "    cpf = limpar_cpf(cpf)\n",
    "    if not validar_formato(cpf):\n",
    "        return False\n",
    "    \n",
    "    digito1 = calcular_digito(cpf, 10)\n",
    "    digito2 = calcular_digito(cpf, 11)\n",
    "    \n",
    "    return digito1 == int(cpf[9]) and digito2 == int(cpf[10])\n",
    "\n",
    "# Exemplo de uso:\n",
    "cpfs = [\"123.456.789-09\", \"111.444.777-35\", \"000.000.000-00\"]\n",
    "for cpf in cpfs:\n",
    "    print(f\"CPF {cpf} é {'válido' if validar_cpf(cpf) else 'inválido'}.\")\n"
   ]
  },
  {
   "cell_type": "markdown",
   "metadata": {},
   "source": [
    "##### 7ª Questão Desenvolva uma função em Python que converta uma temperatura de Celsius para Fahrenheit. A fórmula de conversão é:\n",
    "\n",
    "𝐹 = 9/5𝐶 + 32\n",
    "\n",
    "Onde:\n",
    "\n",
    "F é a temperatura em Fahrenheit e C é a temperatura em Celsius\n"
   ]
  },
  {
   "cell_type": "code",
   "execution_count": 8,
   "metadata": {},
   "outputs": [
    {
     "name": "stdout",
     "output_type": "stream",
     "text": [
      "A temperatura em Fahrenheit é: 86.0\n"
     ]
    }
   ],
   "source": [
    "def convertTemp(temp: float):\n",
    "    '''\n",
    "    Função que converte a temperatura de Celsius para Fahrenheit\n",
    "        :param temp: float -> temperatura em Celsius\n",
    "        :return: float -> temperatura em Fahrenheit\n",
    "    '''\n",
    "    return (temp * 9/5) + 32\n",
    "\n",
    "\n",
    "temp_C = float(input(\"Digite a temperatura em Celsius: \"))\n",
    "print(f\"A temperatura em Fahrenheit é: {convertTemp(temp_C)}\")"
   ]
  },
  {
   "cell_type": "markdown",
   "metadata": {},
   "source": [
    "##### 8ª Questão Crie uma função recursiva em Python que calcule o fatorial de um número inteiro não negativo. O fatorial de um número n"
   ]
  },
  {
   "cell_type": "code",
   "execution_count": null,
   "metadata": {},
   "outputs": [
    {
     "name": "stdout",
     "output_type": "stream",
     "text": [
      "Fatorial de 3!: 3x2\n",
      "Fatorial de 2!: 2x1\n"
     ]
    },
    {
     "data": {
      "text/plain": [
       "6"
      ]
     },
     "execution_count": 40,
     "metadata": {},
     "output_type": "execute_result"
    }
   ],
   "source": [
    "\n",
    "def fact(n:int):\n",
    "    if(n == 0 or n == 1):\n",
    "        return 1\n",
    "    return fact(n - 1) * n\n",
    "\n",
    "fact(3)"
   ]
  },
  {
   "cell_type": "markdown",
   "metadata": {},
   "source": [
    "##### 9ª Questão Escreva uma função em Python que receba uma lista de números e retorne a soma de todos os elementos da lista. Não utilize a função sum() do Python.\n"
   ]
  },
  {
   "cell_type": "code",
   "execution_count": 31,
   "metadata": {},
   "outputs": [
    {
     "data": {
      "text/plain": [
       "'Valor da soma: 9.5'"
      ]
     },
     "execution_count": 31,
     "metadata": {},
     "output_type": "execute_result"
    }
   ],
   "source": [
    "def sumData(numbers:list):\n",
    "    aux = 0\n",
    "    quant = len(numbers)\n",
    "    for i in range(quant):\n",
    "        aux += numbers[i]\n",
    "    return aux    \n",
    "\n",
    "\n",
    "def loadData(n:int):\n",
    "    data = []\n",
    "    for i in range(n):\n",
    "        num = float(input(f'Digite o {i + 1}° valor: '))\n",
    "        data.append(num)     \n",
    "    value = sumData(data)\n",
    "    return f'Valor da soma: {value}'\n",
    "\n",
    "loadData(2)"
   ]
  },
  {
   "cell_type": "markdown",
   "metadata": {},
   "source": [
    "##### 10ª Questão Crie uma função em Python que receba uma lista de números e retorne o maior e o menor valor da lista. Não utilize as funções max() ou min() do Python."
   ]
  },
  {
   "cell_type": "code",
   "execution_count": null,
   "metadata": {},
   "outputs": [
    {
     "data": {
      "text/plain": [
       "'Maior valor: 3.0. Menor valor: 1.0'"
      ]
     },
     "execution_count": 36,
     "metadata": {},
     "output_type": "execute_result"
    }
   ],
   "source": [
    "def findValue(numbers:list):\n",
    "    if not numbers:\n",
    "        return None\n",
    "    \n",
    "    aux_1 = numbers[0]\n",
    "    aux_2 = numbers[0]\n",
    "    quant = len(numbers)\n",
    "\n",
    "    for i in range(quant):\n",
    "        if ((numbers[i] > aux_1)):\n",
    "            aux_1 = numbers[i]\n",
    "        if (numbers[i] < aux_2):\n",
    "            aux_2 = numbers[i]\n",
    "    return aux_1, aux_2 \n",
    "\n",
    "\n",
    "def loadData(n:int):\n",
    "    data = []\n",
    "    for i in range(n):\n",
    "        num = float(input(f'Digite o {i + 1}° valor: '))\n",
    "        data.append(num)     \n",
    "    max_value, min_value = findValue(data)\n",
    "    return f'Maior valor: {max_value}. Menor valor: {min_value}'\n",
    "\n",
    "loadData(3)"
   ]
  },
  {
   "cell_type": "markdown",
   "metadata": {},
   "source": [
    "#### Lista sobre zero de funções\n"
   ]
  },
  {
   "cell_type": "code",
   "execution_count": null,
   "metadata": {},
   "outputs": [],
   "source": []
  }
 ],
 "metadata": {
  "kernelspec": {
   "display_name": "Python 3",
   "language": "python",
   "name": "python3"
  },
  "language_info": {
   "codemirror_mode": {
    "name": "ipython",
    "version": 3
   },
   "file_extension": ".py",
   "mimetype": "text/x-python",
   "name": "python",
   "nbconvert_exporter": "python",
   "pygments_lexer": "ipython3",
   "version": "3.11.5"
  }
 },
 "nbformat": 4,
 "nbformat_minor": 2
}
